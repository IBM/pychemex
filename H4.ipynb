{
 "cells": [
  {
   "cell_type": "code",
   "execution_count": null,
   "id": "experienced-speech",
   "metadata": {},
   "outputs": [],
   "source": [
    "import pandas as pd\n",
    "from sklearn.preprocessing import StandardScaler"
   ]
  },
  {
   "cell_type": "code",
   "execution_count": null,
   "id": "amino-valentine",
   "metadata": {},
   "outputs": [],
   "source": [
    "from hypothesis_testing.H4_scripts import SimilarityAnalysis"
   ]
  },
  {
   "cell_type": "markdown",
   "id": "complimentary-placement",
   "metadata": {},
   "source": [
    "## Pre-processing"
   ]
  },
  {
   "cell_type": "code",
   "execution_count": null,
   "id": "classical-cardiff",
   "metadata": {},
   "outputs": [],
   "source": [
    "data = pd.read_csv(\"rdkit_descriptors.csv\")\n",
    "frag_cols = []\n",
    "for col in list(data.columns):\n",
    "    if col[:3]==\"fr_\":\n",
    "        frag_cols.append(col)\n",
    "\n",
    "features = []\n",
    "for col in data.columns:\n",
    "    if col not in frag_cols and col not in [\"SMILES\", \"MP\"]:\n",
    "        features.append(col)"
   ]
  },
  {
   "cell_type": "code",
   "execution_count": null,
   "id": "nervous-interest",
   "metadata": {},
   "outputs": [],
   "source": [
    "len(data)"
   ]
  },
  {
   "cell_type": "code",
   "execution_count": null,
   "id": "prompt-providence",
   "metadata": {},
   "outputs": [],
   "source": [
    "# remove some weird stuff\n",
    "data = data[data[\"qed\"]!=-666]\n",
    "data.dropna(how=\"any\", inplace=True)\n",
    "len(data)"
   ]
  },
  {
   "cell_type": "markdown",
   "id": "declared-spare",
   "metadata": {},
   "source": [
    "### scale the features\n",
    "expected to be done by user preparing data for model training"
   ]
  },
  {
   "cell_type": "code",
   "execution_count": null,
   "id": "strong-pearl",
   "metadata": {},
   "outputs": [],
   "source": [
    "scaler = StandardScaler()\n",
    "data[features] = scaler.fit_transform(data[features])"
   ]
  },
  {
   "cell_type": "code",
   "execution_count": null,
   "id": "serious-mexican",
   "metadata": {},
   "outputs": [],
   "source": [
    "# get sample molecules\n",
    "mols = data[\"SMILES\"].sample(3).tolist()\n",
    "mols"
   ]
  },
  {
   "cell_type": "markdown",
   "id": "sexual-february",
   "metadata": {},
   "source": [
    "## Hypothesis 4 and 8\n",
    "https://github.com/IBM/pychemex/issues/12\n",
    "\n",
    "https://github.com/IBM/pychemex/issues/17\n",
    "\n",
    "1. parse data thru the analyser\n",
    "2. Find n similar molecules\n",
    "3. Find molecules within X range (need to figure out what good default is\n",
    "4. See the property of \"similar\" molecules (could expand the analysis performed and combine with H1 capabilities)\n",
    "5. visualise the molecule of interest and \"similar\" molecules"
   ]
  },
  {
   "cell_type": "code",
   "execution_count": null,
   "id": "impressive-sullivan",
   "metadata": {},
   "outputs": [],
   "source": [
    "# 1 (this may take a minute)\n",
    "Similarity = SimilarityAnalysis(data, mol_column_name=\"SMILES\", target_column_name=\"MP\", features=features)"
   ]
  },
  {
   "cell_type": "code",
   "execution_count": null,
   "id": "assisted-rogers",
   "metadata": {},
   "outputs": [],
   "source": [
    "# 2 \n",
    "Similarity.find_similar_molecules(mols[1])"
   ]
  },
  {
   "cell_type": "code",
   "execution_count": null,
   "id": "indie-given",
   "metadata": {},
   "outputs": [],
   "source": [
    "# 3\n",
    "df = Similarity.find_molecules_in_radius(mols[1], 7)\n",
    "df"
   ]
  },
  {
   "cell_type": "code",
   "execution_count": null,
   "id": "compressed-viewer",
   "metadata": {},
   "outputs": [],
   "source": [
    "# 4\n",
    "stats = Similarity.analyse_neighbors(mols, 7)\n",
    "stats"
   ]
  },
  {
   "cell_type": "code",
   "execution_count": null,
   "id": "altered-payroll",
   "metadata": {},
   "outputs": [],
   "source": [
    "# 5\n",
    "mols_data = []\n",
    "for mol in mols:\n",
    "    df = Similarity.find_molecules_in_radius(mol, 7)\n",
    "    mols_data.append(df)\n",
    "mols_data = pd.concat(mols_data)\n",
    "pics = Similarity.generate_visualisation(mols_data)"
   ]
  },
  {
   "cell_type": "code",
   "execution_count": null,
   "id": "african-liverpool",
   "metadata": {
    "scrolled": false
   },
   "outputs": [],
   "source": [
    "for pic in pics:\n",
    "    display(pic[0])\n",
    "    display(pic[1])\n",
    "    print(\"----------------------------------------------------------------------------\")"
   ]
  },
  {
   "cell_type": "markdown",
   "id": "unauthorized-belarus",
   "metadata": {},
   "source": [
    "## Suggested TODO:\n",
    "\n",
    "1. Expand the stat analysis\n",
    "2. explore best default radius as a f(features)"
   ]
  }
 ],
 "metadata": {
  "kernelspec": {
   "display_name": "Python [conda env:pychemex] *",
   "language": "python",
   "name": "conda-env-pychemex-py"
  },
  "language_info": {
   "codemirror_mode": {
    "name": "ipython",
    "version": 3
   },
   "file_extension": ".py",
   "mimetype": "text/x-python",
   "name": "python",
   "nbconvert_exporter": "python",
   "pygments_lexer": "ipython3",
   "version": "3.7.10"
  }
 },
 "nbformat": 4,
 "nbformat_minor": 5
}
