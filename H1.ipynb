{
 "cells": [
  {
   "cell_type": "code",
   "execution_count": null,
   "id": "accredited-gnome",
   "metadata": {},
   "outputs": [],
   "source": [
    "import pandas as pd\n",
    "import matplotlib.pyplot as plt\n",
    "import seaborn as sns\n"
   ]
  },
  {
   "cell_type": "code",
   "execution_count": null,
   "id": "awful-pledge",
   "metadata": {},
   "outputs": [],
   "source": [
    "from hypothesis_testing.H1_scripts import MoleculeAnalysis\n"
   ]
  },
  {
   "cell_type": "markdown",
   "id": "different-weather",
   "metadata": {},
   "source": [
    "## Pre-processing\n",
    "1. load\n",
    "2. get fragments and features"
   ]
  },
  {
   "cell_type": "code",
   "execution_count": null,
   "id": "metric-austria",
   "metadata": {},
   "outputs": [],
   "source": [
    "data = pd.read_csv(\"rdkit_descriptors.csv\")"
   ]
  },
  {
   "cell_type": "code",
   "execution_count": null,
   "id": "adapted-discretion",
   "metadata": {},
   "outputs": [],
   "source": [
    "# remove some weird stuff\n",
    "data = data[data[\"qed\"]!=-666]"
   ]
  },
  {
   "cell_type": "code",
   "execution_count": null,
   "id": "driven-fleece",
   "metadata": {},
   "outputs": [],
   "source": [
    "# get fragment columns\n",
    "frag_cols = []\n",
    "for col in list(data.columns):\n",
    "    if col[:3]==\"fr_\":\n",
    "        frag_cols.append(col)"
   ]
  },
  {
   "cell_type": "code",
   "execution_count": null,
   "id": "passing-complexity",
   "metadata": {},
   "outputs": [],
   "source": [
    "# get features that are not fragments\n",
    "features = []\n",
    "for col in data.columns:\n",
    "    if col not in frag_cols and col not in [\"SMILES\", \"MP\"]:\n",
    "        features.append(col)"
   ]
  },
  {
   "cell_type": "code",
   "execution_count": null,
   "id": "realistic-receipt",
   "metadata": {},
   "outputs": [],
   "source": [
    "frag_freq = data[frag_cols].sum() / len(data)"
   ]
  },
  {
   "cell_type": "code",
   "execution_count": null,
   "id": "interpreted-first",
   "metadata": {},
   "outputs": [],
   "source": [
    "frag_freq"
   ]
  },
  {
   "cell_type": "code",
   "execution_count": null,
   "id": "equipped-department",
   "metadata": {},
   "outputs": [],
   "source": [
    "features"
   ]
  },
  {
   "cell_type": "code",
   "execution_count": null,
   "id": "noticed-seminar",
   "metadata": {
    "scrolled": true
   },
   "outputs": [],
   "source": [
    "frag_cols"
   ]
  },
  {
   "cell_type": "markdown",
   "id": "hindu-status",
   "metadata": {},
   "source": [
    "## Hypothesis 1\n",
    "https://github.com/IBM/pychemex/issues/9\n",
    "\n",
    "1. parse data thru the analyser\n",
    "2. select a molecule\n",
    "3. calculate the percentile for all features\n",
    "4. select feature of interest\n",
    "5. visualise:\n",
    "    a. draw molecule\n",
    "    b. show in distribution\n",
    "    c. show in scatter"
   ]
  },
  {
   "cell_type": "code",
   "execution_count": null,
   "id": "romance-andorra",
   "metadata": {},
   "outputs": [],
   "source": [
    "# 1\n",
    "MolAnalyser = MoleculeAnalysis(data, features)"
   ]
  },
  {
   "cell_type": "code",
   "execution_count": null,
   "id": "dense-globe",
   "metadata": {},
   "outputs": [],
   "source": [
    "# 2\n",
    "mol = \"NC1=C2C=C(Cl)N=CC2=CC=C1\""
   ]
  },
  {
   "cell_type": "code",
   "execution_count": null,
   "id": "comfortable-argument",
   "metadata": {},
   "outputs": [],
   "source": [
    "# 3\n",
    "mol_percentiles = MolAnalyser.get_percentiles_all_features(mol)"
   ]
  },
  {
   "cell_type": "code",
   "execution_count": null,
   "id": "enabling-magic",
   "metadata": {},
   "outputs": [],
   "source": [
    "# 4\n",
    "mol_percentiles[(mol_percentiles[mol]>=85)|(mol_percentiles[mol]<=15)]"
   ]
  },
  {
   "cell_type": "code",
   "execution_count": null,
   "id": "perfect-spyware",
   "metadata": {},
   "outputs": [],
   "source": [
    "# 4\n",
    "feature = \"BCUT2D_LOGPLOW\""
   ]
  },
  {
   "cell_type": "code",
   "execution_count": null,
   "id": "furnished-floating",
   "metadata": {},
   "outputs": [],
   "source": [
    "# 5 a\n",
    "MolAnalyser.draw_mol(mol)"
   ]
  },
  {
   "cell_type": "code",
   "execution_count": null,
   "id": "circular-fantasy",
   "metadata": {},
   "outputs": [],
   "source": [
    "# 5 b\n",
    "MolAnalyser.show_mol_in_dist(mol, feature)"
   ]
  },
  {
   "cell_type": "code",
   "execution_count": null,
   "id": "spectacular-appraisal",
   "metadata": {},
   "outputs": [],
   "source": [
    "# 5 c\n",
    "MolAnalyser.show_mol_in_scatter(mol, feature)"
   ]
  },
  {
   "cell_type": "markdown",
   "id": "efficient-satellite",
   "metadata": {},
   "source": [
    "## Suggested TODO:\n",
    "\n",
    "1. box plots for multiple \n",
    "2. do the joint plots (distribution on axis) marginal distributions."
   ]
  }
 ],
 "metadata": {
  "kernelspec": {
   "display_name": "Python 3",
   "language": "python",
   "name": "python3"
  },
  "language_info": {
   "codemirror_mode": {
    "name": "ipython",
    "version": 3
   },
   "file_extension": ".py",
   "mimetype": "text/x-python",
   "name": "python",
   "nbconvert_exporter": "python",
   "pygments_lexer": "ipython3",
   "version": "3.7.10"
  }
 },
 "nbformat": 4,
 "nbformat_minor": 5
}
