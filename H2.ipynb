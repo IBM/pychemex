{
 "cells": [
  {
   "cell_type": "markdown",
   "id": "nominated-analysis",
   "metadata": {},
   "source": [
    "### hypothesis\n",
    "Select a feature, select a fragment -> compare the distribution of the feature between molecules with fragment vs general population"
   ]
  },
  {
   "cell_type": "code",
   "execution_count": null,
   "id": "solar-diamond",
   "metadata": {},
   "outputs": [],
   "source": [
    "import pandas as pd\n",
    "import matplotlib.pyplot as plt\n",
    "import seaborn as sns\n"
   ]
  },
  {
   "cell_type": "code",
   "execution_count": null,
   "id": "ethical-rhythm",
   "metadata": {},
   "outputs": [],
   "source": [
    "from hypothesis_testing.preprocess_rdkit_set import load\n",
    "from hypothesis_testing.H2_scripts import FragmentAnalysis"
   ]
  },
  {
   "cell_type": "code",
   "execution_count": null,
   "id": "prepared-valve",
   "metadata": {},
   "outputs": [],
   "source": [
    "data_path = \"rdkit_descriptors.csv\""
   ]
  },
  {
   "cell_type": "code",
   "execution_count": null,
   "id": "familiar-lecture",
   "metadata": {},
   "outputs": [],
   "source": [
    "data, frag_cols, features = load(data_path)"
   ]
  },
  {
   "cell_type": "markdown",
   "id": "unnecessary-destination",
   "metadata": {},
   "source": [
    "1. go thru features and get the difference in mean for have features vs ~(have feature)\n",
    "    1. delta mean\n",
    "    2. delta median\n",
    "    3. Mann Whitney U test - give warning for unbalanced datasets... maybe not use at all since it's likely to be unbalanced\n",
    "    4. prob that subset comes from population\n",
    "2. select a feature\n",
    "3. plot features vs ~(have feature)\n",
    "4. repeat by scanning thru fragments?\n",
    "5. select X features that are significant for fragment Y\n",
    "6. think of how to handle categorical features (binary, ordered, unordered)"
   ]
  },
  {
   "cell_type": "code",
   "execution_count": null,
   "id": "welsh-deficit",
   "metadata": {},
   "outputs": [],
   "source": [
    "frag_analysis = FragmentAnalysis(data, frag_cols, features)"
   ]
  },
  {
   "cell_type": "code",
   "execution_count": null,
   "id": "experienced-reasoning",
   "metadata": {},
   "outputs": [],
   "source": [
    "feature = \"MP\""
   ]
  },
  {
   "cell_type": "code",
   "execution_count": null,
   "id": "gothic-wesley",
   "metadata": {},
   "outputs": [],
   "source": [
    "explanation = frag_analysis.find_fragment_explanation(feature)"
   ]
  },
  {
   "cell_type": "code",
   "execution_count": null,
   "id": "seven-chemistry",
   "metadata": {},
   "outputs": [],
   "source": [
    "explanation"
   ]
  },
  {
   "cell_type": "code",
   "execution_count": null,
   "id": "working-robert",
   "metadata": {},
   "outputs": [],
   "source": [
    "for frag in explanation[\"index\"].tolist():\n",
    "    frag_analysis.visualise_feature(variable, frag)"
   ]
  }
 ],
 "metadata": {
  "kernelspec": {
   "display_name": "Python [conda env:pychemex] *",
   "language": "python",
   "name": "conda-env-pychemex-py"
  },
  "language_info": {
   "codemirror_mode": {
    "name": "ipython",
    "version": 3
   },
   "file_extension": ".py",
   "mimetype": "text/x-python",
   "name": "python",
   "nbconvert_exporter": "python",
   "pygments_lexer": "ipython3",
   "version": "3.7.10"
  }
 },
 "nbformat": 4,
 "nbformat_minor": 5
}
